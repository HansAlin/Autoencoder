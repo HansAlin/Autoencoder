{
 "cells": [
  {
   "cell_type": "code",
   "execution_count": 37,
   "metadata": {},
   "outputs": [
    {
     "name": "stdout",
     "output_type": "stream",
     "text": [
      "GPU 0  will be allocated\n"
     ]
    }
   ],
   "source": [
    "import os\n",
    "from gpuutils import GpuUtils\n",
    "GpuUtils.allocate(gpu_count=1, framework='keras')\n",
    "\n",
    "import tensorflow as tf\n",
    "physical_devices = tf.config.list_physical_devices('GPU')\n",
    "for device in physical_devices:\n",
    "    tf.config.experimental.set_memory_growth(device, True) "
   ]
  },
  {
   "cell_type": "code",
   "execution_count": 38,
   "metadata": {},
   "outputs": [],
   "source": [
    "#import sys\n",
    "#sys.path.insert(0,'/home/halin/.local/lib')\n",
    "from matplotlib import pyplot as plt\n",
    "import numpy as np\n",
    "#import seaborn as sns\n",
    "import pandas as pd\n",
    "from gc import callbacks\n",
    "from tensorflow import keras\n",
    "from tensorflow.keras.models import Sequential, load_model\n",
    "from tensorflow.keras.layers import Dense, Dropout, Flatten, Reshape, GlobalAveragePooling1D, Activation, GlobalAveragePooling2D, BatchNormalization\n",
    "from tensorflow.keras.layers import Conv2D, MaxPooling2D, Conv1D, MaxPooling1D, UpSampling1D\n",
    "from keras_flops import get_flops\n",
    "import Help_functions.creating_models as cm\n",
    "import Help_functions.plot_functions as pf\n",
    "import Help_functions.data_manage as dm\n",
    "from Model_classes.NewPhysicsAutoencoder import NewPhysicsAutoencoder\n",
    "from Model_classes.SecondCNNModel import SecondCNNModel\n",
    "from Model_classes.DenseModel import DenseModel\n",
    "from Model_classes.ConvAutoencoder import ConvAutoencoder\n",
    "\n"
   ]
  },
  {
   "cell_type": "code",
   "execution_count": 39,
   "metadata": {},
   "outputs": [],
   "source": [
    "data_url = '/home/halin/Autoencoder/Data/'\n",
    "x_test, y_test, smask_test, signal, noise, std, mean = dm.load_data(all_signals=True,\n",
    "\t\t\t\t\t\t\t\t\t\t\t\t\t\t\t\t\t\t\t\t\t\t\t\t\t\t\t\t\t\t\t\t\t\t data_path=data_url, \n",
    "\t\t\t\t\t\t\t\t\t\t\t\t\t\t\t\t\t\t\t\t\t\t\t\t\t\t\t\t\t\t\t\t\t\t small_test_set=1000,\n",
    "\t\t\t\t\t\t\t\t\t\t\t\t\t\t\t\t\t\t\t\t\t\t\t\t\t\t\t\t\t\t\t\t\t\t number_of_files=10)\n"
   ]
  },
  {
   "cell_type": "code",
   "execution_count": 18,
   "metadata": {},
   "outputs": [
    {
     "name": "stdout",
     "output_type": "stream",
     "text": [
      "(364782, 100, 1)\n"
     ]
    }
   ],
   "source": [
    "x = x_test[0]\n",
    "print(x_test.shape)"
   ]
  },
  {
   "cell_type": "code",
   "execution_count": null,
   "metadata": {},
   "outputs": [],
   "source": [
    "save_path = '/home/halin/Autoencoder/Models/test_models'\n",
    "model_path = '/home/halin/Autoencoder/Models/CNN_122/CNN_122_model_1.h5'\n",
    "\n",
    "pf.plot_performance(path=model_path, x_test=x_test,smask_test=smask_test,save_path=save_path,std=std,mean=mean)\n"
   ]
  },
  {
   "cell_type": "code",
   "execution_count": 42,
   "metadata": {},
   "outputs": [
    {
     "name": "stdout",
     "output_type": "stream",
     "text": [
      "0 <tensorflow.python.keras.engine.input_layer.InputLayer object at 0x7f4de21c2760>\n",
      "     no activation attribute\n",
      "1 <tensorflow.python.keras.layers.convolutional.Conv1D object at 0x7f4de21c2ee0>\n",
      "      <function relu at 0x7f4ec2b1c3a0>\n",
      "2 <tensorflow.python.keras.layers.pooling.MaxPooling1D object at 0x7f4de7185a00>\n",
      "     no activation attribute\n",
      "3 <tensorflow.python.keras.layers.convolutional.Conv1D object at 0x7f4de7185a60>\n",
      "      <function relu at 0x7f4ec2b1c3a0>\n",
      "4 <tensorflow.python.keras.layers.pooling.MaxPooling1D object at 0x7f4de7293e80>\n",
      "     no activation attribute\n",
      "5 <tensorflow.python.keras.layers.convolutional.Conv1D object at 0x7f4de7293340>\n",
      "      <function relu at 0x7f4ec2b1c3a0>\n",
      "6 <tensorflow.python.keras.layers.pooling.MaxPooling1D object at 0x7f4de722a9a0>\n",
      "     no activation attribute\n",
      "7 <tensorflow.python.keras.layers.core.Flatten object at 0x7f4de722a970>\n",
      "     no activation attribute\n",
      "8 <tensorflow.python.keras.layers.core.Dense object at 0x7f4de722a310>\n",
      "      <function linear at 0x7f4ec2b1c670>\n",
      "9 <tensorflow.python.keras.layers.core.Dense object at 0x7f4e96ae4b50>\n",
      "      <function linear at 0x7f4ec2b1c670>\n",
      "10 <tensorflow.python.keras.layers.core.Reshape object at 0x7f4e96ae4b20>\n",
      "     no activation attribute\n",
      "11 <tensorflow.python.keras.layers.convolutional.Conv1D object at 0x7f4e96ae4a00>\n",
      "      <function relu at 0x7f4ec2b1c3a0>\n",
      "12 <tensorflow.python.keras.layers.convolutional.UpSampling1D object at 0x7f4e96a71d90>\n",
      "     no activation attribute\n",
      "13 <tensorflow.python.keras.layers.convolutional.Conv1D object at 0x7f4e96a71be0>\n",
      "      <function relu at 0x7f4ec2b1c3a0>\n",
      "14 <tensorflow.python.keras.layers.convolutional.UpSampling1D object at 0x7f4e96ad4970>\n",
      "     no activation attribute\n",
      "15 <tensorflow.python.keras.layers.convolutional.ZeroPadding1D object at 0x7f4e96ad4af0>\n",
      "     no activation attribute\n",
      "16 <tensorflow.python.keras.layers.convolutional.Conv1D object at 0x7f4e96a71f10>\n",
      "      <function relu at 0x7f4ec2b1c3a0>\n",
      "17 <tensorflow.python.keras.layers.convolutional.UpSampling1D object at 0x7f4e96ad4670>\n",
      "     no activation attribute\n",
      "18 <tensorflow.python.keras.layers.convolutional.Conv1D object at 0x7f4e96ad4640>\n",
      "      <function relu at 0x7f4ec2b1c3a0>\n",
      "19 <tensorflow.python.keras.layers.core.Dense object at 0x7f4e96aa4670>\n",
      "      <function linear at 0x7f4ec2b1c670>\n",
      "20 <tensorflow.python.keras.layers.core.Reshape object at 0x7f4e96aa4b80>\n",
      "     no activation attribute\n"
     ]
    }
   ],
   "source": [
    "model_path = '/home/halin/Autoencoder/Models/CNN_122/CNN_122_model_1.h5'\n",
    "model = load_model(model_path)\n",
    "for i, layer in enumerate(model.layers):\n",
    "  print(i, layer)\n",
    "  try:\n",
    "    print(\"     \", layer.activation)\n",
    "  except AttributeError:\n",
    "    print('     no activation attribute')  "
   ]
  }
 ],
 "metadata": {
  "kernelspec": {
   "display_name": "Python 3.8.5 ('tf-gpu')",
   "language": "python",
   "name": "python3"
  },
  "language_info": {
   "codemirror_mode": {
    "name": "ipython",
    "version": 3
   },
   "file_extension": ".py",
   "mimetype": "text/x-python",
   "name": "python",
   "nbconvert_exporter": "python",
   "pygments_lexer": "ipython3",
   "version": "3.8.5"
  },
  "orig_nbformat": 4,
  "vscode": {
   "interpreter": {
    "hash": "f00e6b041018f9c5003ba88af84c1401696fe75920157f0e0f441a09854937f6"
   }
  }
 },
 "nbformat": 4,
 "nbformat_minor": 2
}
